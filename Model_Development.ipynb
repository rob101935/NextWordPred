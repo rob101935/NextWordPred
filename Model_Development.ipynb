{
 "cells": [
  {
   "cell_type": "code",
   "execution_count": null,
   "metadata": {},
   "outputs": [],
   "source": []
  },
  {
   "cell_type": "markdown",
   "metadata": {},
   "source": [
    "## Import Data, clean and look at n-gram length"
   ]
  },
  {
   "cell_type": "code",
   "execution_count": 1,
   "metadata": {},
   "outputs": [],
   "source": [
    "from keras import backend as K\n",
    "import tensorflow as tf\n",
    "from tensorflow.keras.preprocessing.sequence import pad_sequences\n",
    "from tensorflow.keras.layers import Embedding, LSTM, Dense, Bidirectional\n",
    "from tensorflow.keras.preprocessing.text import Tokenizer\n",
    "from tensorflow.keras.models import Sequential\n",
    "from tensorflow.keras.optimizers import Adam\n",
    "from tensorflow.keras.preprocessing.sequence import pad_sequences\n",
    "import pandas as pd\n",
    "import re\n",
    "import numpy as np\n",
    "from matplotlib import pyplot as plt\n",
    "\n",
    "# from tensorflow import set_random_seed\n",
    "# set_random_seed(2)\n"
   ]
  },
  {
   "cell_type": "code",
   "execution_count": 2,
   "metadata": {},
   "outputs": [],
   "source": [
    "textWords = []\n",
    "lineLength =[]\n",
    "corpusForTokenizerFit =[]\n",
    "with open('data/phrases_data.txt', 'r') as f:\n",
    "    for line in f:\n",
    "        string = line.lower()\n",
    "        doublespaces = re.compile(\" {2,}\")\n",
    "        string = doublespaces.sub('', string)\n",
    "        p = re.compile(\"[^a-z0-9 ']\")\n",
    "\n",
    "        string = p.sub('', string)\n",
    "        corpusForTokenizerFit.append(string)\n",
    "        lineList = string.split(\" \")\n",
    "        # print(string)\n",
    "        # print(lineList)\n",
    "        lineLength.append(len(lineList))\n",
    "\n",
    "        textWords .append(lineList)\n",
    "    # line.lower()"
   ]
  },
  {
   "cell_type": "code",
   "execution_count": 3,
   "metadata": {},
   "outputs": [
    {
     "name": "stdout",
     "output_type": "stream",
     "text": [
      " number of examples 10000\n"
     ]
    }
   ],
   "source": [
    "print(f' number of examples {len( textWords)}')"
   ]
  },
  {
   "cell_type": "code",
   "execution_count": 4,
   "metadata": {},
   "outputs": [
    {
     "name": "stdout",
     "output_type": "stream",
     "text": [
      "max 68\n",
      "median 8.0\n",
      "90th 12.0\n"
     ]
    }
   ],
   "source": [
    "#check number of words per sentence to get an idea of reasonable N-gram sizes\n",
    "print(f'max {max(lineLength)}')\n",
    "print(f'median {np.quantile(lineLength, 0.5)}')\n",
    "print(f'90th {np.quantile(lineLength, 0.90)}')"
   ]
  },
  {
   "cell_type": "markdown",
   "metadata": {},
   "source": [
    "Max sequence is 68 but that is way too long, we can use the 90th Percentile N-gram of n=12\n",
    "\n",
    "Next step is to initialize the tokenizer and look at how large our dictionary is"
   ]
  },
  {
   "cell_type": "code",
   "execution_count": 7,
   "metadata": {},
   "outputs": [
    {
     "name": "stdout",
     "output_type": "stream",
     "text": [
      "7299\n"
     ]
    }
   ],
   "source": [
    "tokenizer = Tokenizer()\n",
    "tokenizer.fit_on_texts(corpusForTokenizerFit)\n",
    "word_index = tokenizer.word_index\n",
    "total_unique_words = len(tokenizer.word_index) + 1 \n",
    "\n",
    "print(total_unique_words)\n",
    "# print(word_index.items()[:100])"
   ]
  },
  {
   "cell_type": "code",
   "execution_count": 7,
   "metadata": {},
   "outputs": [],
   "source": [
    "# save the tokenizer in model directory\n",
    "import pickle\n",
    "\n",
    "# saving\n",
    "with open('model/tokenizer.pickle', 'wb') as handle:\n",
    "    pickle.dump(tokenizer, handle, protocol=pickle.HIGHEST_PROTOCOL)"
   ]
  },
  {
   "cell_type": "markdown",
   "metadata": {},
   "source": [
    "The dataset has a pretty diverse word count at 7299 unique tokens.\n",
    "\n",
    "Next step is to break down the sentences into N-Grams from N=1 to N=12 and pad out the shorter vectors"
   ]
  },
  {
   "cell_type": "code",
   "execution_count": 8,
   "metadata": {},
   "outputs": [
    {
     "name": "stdout",
     "output_type": "stream",
     "text": [
      "71135\n",
      "[[193, 226], [193, 226, 140], [5, 13], [5, 13, 3], [5, 13, 3, 40]]\n"
     ]
    }
   ],
   "source": [
    "# created Tokenized NGrams\n",
    "input_sequences = []\n",
    "for line in corpusForTokenizerFit:\n",
    "    token_list = tokenizer.texts_to_sequences([line])[0]\n",
    "    for i in range(1, len(token_list)): \n",
    "        n_gram_seqs = token_list[:i+1]\n",
    "        input_sequences.append(n_gram_seqs)\n",
    "print(len(input_sequences))\n",
    "print(input_sequences[:5])"
   ]
  },
  {
   "cell_type": "code",
   "execution_count": 9,
   "metadata": {},
   "outputs": [
    {
     "name": "stdout",
     "output_type": "stream",
     "text": [
      "[[  0   0   0   0   0   0   0   0   0   0 193 226]\n",
      " [  0   0   0   0   0   0   0   0   0 193 226 140]\n",
      " [  0   0   0   0   0   0   0   0   0   0   5  13]\n",
      " [  0   0   0   0   0   0   0   0   0   5  13   3]\n",
      " [  0   0   0   0   0   0   0   0   5  13   3  40]]\n"
     ]
    }
   ],
   "source": [
    "\n",
    "max_seq_length = 12 # from 90th Percentile\n",
    "input_seqs = np.array(pad_sequences(input_sequences, maxlen=max_seq_length, padding='pre'))\n",
    "\n",
    "print(input_seqs[:5])"
   ]
  },
  {
   "cell_type": "code",
   "execution_count": 10,
   "metadata": {},
   "outputs": [
    {
     "name": "stdout",
     "output_type": "stream",
     "text": [
      "[[  0   0   0   0   0   0   0   0   0   0 193]\n",
      " [  0   0   0   0   0   0   0   0   0 193 226]\n",
      " [  0   0   0   0   0   0   0   0   0   0   5]]\n",
      "[226 140  13]\n"
     ]
    }
   ],
   "source": [
    "x_values, labels = input_seqs[:, :-1], input_seqs[:, -1]\n",
    "y_values = tf.keras.utils.to_categorical(labels, num_classes=total_unique_words)\n",
    "print(x_values[:3])\n",
    "print(labels[:3])"
   ]
  },
  {
   "cell_type": "markdown",
   "metadata": {},
   "source": [
    "I will use Glove embeddings to populate an embedding layer with semantic embedding vectors, glove is a decent choice because it does not have embedded information about word position in sentence structure. Capturing context of the position of the next word in the sentence structure will be deal with by our BiLSTM."
   ]
  },
  {
   "cell_type": "code",
   "execution_count": 11,
   "metadata": {},
   "outputs": [
    {
     "data": {
      "text/plain": [
       "{'the': array([-0.038194, -0.24487 ,  0.72812 , -0.39961 ,  0.083172,  0.043953,\n",
       "        -0.39141 ,  0.3344  , -0.57545 ,  0.087459,  0.28787 , -0.06731 ,\n",
       "         0.30906 , -0.26384 , -0.13231 , -0.20757 ,  0.33395 , -0.33848 ,\n",
       "        -0.31743 , -0.48336 ,  0.1464  , -0.37304 ,  0.34577 ,  0.052041,\n",
       "         0.44946 , -0.46971 ,  0.02628 , -0.54155 , -0.15518 , -0.14107 ,\n",
       "        -0.039722,  0.28277 ,  0.14393 ,  0.23464 , -0.31021 ,  0.086173,\n",
       "         0.20397 ,  0.52624 ,  0.17164 , -0.082378, -0.71787 , -0.41531 ,\n",
       "         0.20335 , -0.12763 ,  0.41367 ,  0.55187 ,  0.57908 , -0.33477 ,\n",
       "        -0.36559 , -0.54857 , -0.062892,  0.26584 ,  0.30205 ,  0.99775 ,\n",
       "        -0.80481 , -3.0243  ,  0.01254 , -0.36942 ,  2.2167  ,  0.72201 ,\n",
       "        -0.24978 ,  0.92136 ,  0.034514,  0.46745 ,  1.1079  , -0.19358 ,\n",
       "        -0.074575,  0.23353 , -0.052062, -0.22044 ,  0.057162, -0.15806 ,\n",
       "        -0.30798 , -0.41625 ,  0.37972 ,  0.15006 , -0.53212 , -0.2055  ,\n",
       "        -1.2526  ,  0.071624,  0.70565 ,  0.49744 , -0.42063 ,  0.26148 ,\n",
       "        -1.538   , -0.30223 , -0.073438, -0.28312 ,  0.37104 , -0.25217 ,\n",
       "         0.016215, -0.017099, -0.38984 ,  0.87424 , -0.72569 , -0.51058 ,\n",
       "        -0.52028 , -0.1459  ,  0.8278  ,  0.27062 ], dtype=float32),\n",
       " ',': array([-0.10767  ,  0.11053  ,  0.59812  , -0.54361  ,  0.67396  ,\n",
       "         0.10663  ,  0.038867 ,  0.35481  ,  0.06351  , -0.094189 ,\n",
       "         0.15786  , -0.81665  ,  0.14172  ,  0.21939  ,  0.58505  ,\n",
       "        -0.52158  ,  0.22783  , -0.16642  , -0.68228  ,  0.3587   ,\n",
       "         0.42568  ,  0.19021  ,  0.91963  ,  0.57555  ,  0.46185  ,\n",
       "         0.42363  , -0.095399 , -0.42749  , -0.16567  , -0.056842 ,\n",
       "        -0.29595  ,  0.26037  , -0.26606  , -0.070404 , -0.27662  ,\n",
       "         0.15821  ,  0.69825  ,  0.43081  ,  0.27952  , -0.45437  ,\n",
       "        -0.33801  , -0.58184  ,  0.22364  , -0.5778   , -0.26862  ,\n",
       "        -0.20425  ,  0.56394  , -0.58524  , -0.14365  , -0.64218  ,\n",
       "         0.0054697, -0.35248  ,  0.16162  ,  1.1796   , -0.47674  ,\n",
       "        -2.7553   , -0.1321   , -0.047729 ,  1.0655   ,  1.1034   ,\n",
       "        -0.2208   ,  0.18669  ,  0.13177  ,  0.15117  ,  0.7131   ,\n",
       "        -0.35215  ,  0.91348  ,  0.61783  ,  0.70992  ,  0.23955  ,\n",
       "        -0.14571  , -0.37859  , -0.045959 , -0.47368  ,  0.2385   ,\n",
       "         0.20536  , -0.18996  ,  0.32507  , -1.1112   , -0.36341  ,\n",
       "         0.98679  , -0.084776 , -0.54008  ,  0.11726  , -1.0194   ,\n",
       "        -0.24424  ,  0.12771  ,  0.013884 ,  0.080374 , -0.35414  ,\n",
       "         0.34951  , -0.7226   ,  0.37549  ,  0.4441   , -0.99059  ,\n",
       "         0.61214  , -0.35111  , -0.83155  ,  0.45293  ,  0.082577 ],\n",
       "       dtype=float32)}"
      ]
     },
     "execution_count": 11,
     "metadata": {},
     "output_type": "execute_result"
    }
   ],
   "source": [
    "# https://nlp.stanford.edu/data/glove.6B.zip\n",
    "path = \"data/glove.6B.100d.txt\"\n",
    "\n",
    "embeddings_index = {}\n",
    "\n",
    "with open(path) as f:\n",
    "  for line in f:\n",
    "    values = line.split()\n",
    "    word = values[0]\n",
    "    coeffs = np.array(values[1:], dtype='float32')\n",
    "    embeddings_index[word] = coeffs\n",
    "    \n",
    "dict(list(embeddings_index.items())[0:2])"
   ]
  },
  {
   "cell_type": "code",
   "execution_count": 12,
   "metadata": {},
   "outputs": [],
   "source": [
    "# take only embeddings for words that appear in our dictionary/word list\n",
    "\n",
    "embeddings_matrix = np.zeros((total_unique_words, 100))\n",
    "for word, i in word_index.items():\n",
    "   embedding_vector = embeddings_index.get(word)\n",
    "   if embedding_vector is not None:\n",
    "     embeddings_matrix[i] = embedding_vector;"
   ]
  },
  {
   "cell_type": "code",
   "execution_count": 43,
   "metadata": {},
   "outputs": [
    {
     "name": "stdout",
     "output_type": "stream",
     "text": [
      " train N-grams: 70543 test N-grams: 592 \n"
     ]
    }
   ],
   "source": [
    "# Make a function to turn selected parts of the corpus to an appropriate input matrix and create a test and train \n",
    "\n",
    "def inputTransformations(corpus,tokenizer):\n",
    "    # created Tokenized NGrams\n",
    "    input_sequences = []\n",
    "    for line in corpus:\n",
    "        token_list = tokenizer.texts_to_sequences([line])[0]\n",
    "        for i in range(1, len(token_list)): \n",
    "            n_gram_seqs = token_list[:i+1]\n",
    "            input_sequences.append(n_gram_seqs)\n",
    "    # print(len(input_sequences))\n",
    "    # print(input_sequences)\n",
    "    max_seq_length = 12 # from 90th Percentile\n",
    "    input_seqs = np.array(pad_sequences(input_sequences, maxlen=max_seq_length, padding='pre'))\n",
    "\n",
    "    # print(input_seqs[:5])\n",
    "    x_values, labels = input_seqs[:, :-1], input_seqs[:, -1]\n",
    "    y_values = tf.keras.utils.to_categorical(labels, num_classes=total_unique_words)\n",
    "    return x_values, y_values\n",
    "\n",
    "x_train,y_train = inputTransformations(corpusForTokenizerFit[:-100],tokenizer)\n",
    "x_test,y_test = inputTransformations(corpusForTokenizerFit[-100:],tokenizer)\n",
    "print(f\" train N-grams: {len(y_train)} test N-grams: {len(y_test)} \")"
   ]
  },
  {
   "cell_type": "code",
   "execution_count": 90,
   "metadata": {},
   "outputs": [
    {
     "data": {
      "text/plain": [
       "\"let's\""
      ]
     },
     "execution_count": 90,
     "metadata": {},
     "output_type": "execute_result"
    }
   ],
   "source": [
    "x_train\n",
    "list(word_index.keys())[list(word_index.values()).index(193)]"
   ]
  },
  {
   "cell_type": "markdown",
   "metadata": {},
   "source": [
    "## Initialize a keras Bi Directional LSTM model"
   ]
  },
  {
   "cell_type": "code",
   "execution_count": null,
   "metadata": {},
   "outputs": [],
   "source": []
  },
  {
   "cell_type": "markdown",
   "metadata": {},
   "source": [
    "It was noticed early on that when using 20% validation set that the model quickly becomes overfit to the training data\n",
    "\n",
    "So I train LSTM with early stopping based on Validation Loss."
   ]
  },
  {
   "cell_type": "code",
   "execution_count": 103,
   "metadata": {},
   "outputs": [
    {
     "name": "stdout",
     "output_type": "stream",
     "text": [
      "Model: \"sequential\"\n",
      "_________________________________________________________________\n",
      " Layer (type)                Output Shape              Param #   \n",
      "=================================================================\n",
      " embedding (Embedding)       (None, 11, 100)           729900    \n",
      "                                                                 \n",
      " bidirectional (Bidirectiona  (None, 11, 512)          731136    \n",
      " l)                                                              \n",
      "                                                                 \n",
      " dropout (Dropout)           (None, 11, 512)           0         \n",
      "                                                                 \n",
      " bidirectional_1 (Bidirectio  (None, 512)              1574912   \n",
      " nal)                                                            \n",
      "                                                                 \n",
      " dropout_1 (Dropout)         (None, 512)               0         \n",
      "                                                                 \n",
      " dense (Dense)               (None, 128)               65664     \n",
      "                                                                 \n",
      " dense_1 (Dense)             (None, 7299)              941571    \n",
      "                                                                 \n",
      "=================================================================\n",
      "Total params: 4,043,183\n",
      "Trainable params: 3,313,283\n",
      "Non-trainable params: 729,900\n",
      "_________________________________________________________________\n"
     ]
    }
   ],
   "source": [
    "\n",
    "# initial test monitoring Losses Training vs Validation\n",
    "K.clear_session()\n",
    "model_initTest = tf.keras.Sequential(\n",
    "    [tf.keras.layers.Embedding(input_dim = total_unique_words, \n",
    "                               output_dim=100, weights=[embeddings_matrix], \n",
    "                               input_length=max_seq_length-1, \n",
    "                               trainable=False),\n",
    "    tf.keras.layers.Bidirectional(tf.keras.layers.LSTM(256, return_sequences=True)),\n",
    "    tf.keras.layers.Dropout(0.2), \n",
    "    tf.keras.layers.Bidirectional(tf.keras.layers.LSTM(256)),\n",
    "    tf.keras.layers.Dropout(0.2),\n",
    "    tf.keras.layers.Dense(128, activation='relu'),\n",
    "    tf.keras.layers.Dense(total_unique_words , activation='softmax')])\n",
    "model_initTest.compile(optimizer=Adam(learning_rate=0.001), loss='categorical_crossentropy', metrics=['accuracy'])\n",
    "model_initTest.summary()\n"
   ]
  },
  {
   "cell_type": "code",
   "execution_count": 104,
   "metadata": {},
   "outputs": [
    {
     "name": "stdout",
     "output_type": "stream",
     "text": [
      "Epoch 1/40\n",
      "221/221 [==============================] - 10s 28ms/step - loss: 6.8037 - accuracy: 0.0481 - val_loss: 6.6961 - val_accuracy: 0.0657\n",
      "Epoch 2/40\n",
      "221/221 [==============================] - 5s 24ms/step - loss: 6.2075 - accuracy: 0.0819 - val_loss: 6.4174 - val_accuracy: 0.0957\n",
      "Epoch 3/40\n",
      "221/221 [==============================] - 5s 24ms/step - loss: 5.8419 - accuracy: 0.1067 - val_loss: 6.3090 - val_accuracy: 0.1081\n",
      "Epoch 4/40\n",
      "221/221 [==============================] - 5s 24ms/step - loss: 5.6019 - accuracy: 0.1186 - val_loss: 6.2425 - val_accuracy: 0.1142\n",
      "Epoch 5/40\n",
      "221/221 [==============================] - 5s 23ms/step - loss: 5.4179 - accuracy: 0.1265 - val_loss: 6.2107 - val_accuracy: 0.1172\n",
      "Epoch 6/40\n",
      "221/221 [==============================] - 5s 23ms/step - loss: 5.2474 - accuracy: 0.1315 - val_loss: 6.2176 - val_accuracy: 0.1211\n",
      "Epoch 7/40\n",
      "221/221 [==============================] - 5s 23ms/step - loss: 5.1047 - accuracy: 0.1381 - val_loss: 6.2180 - val_accuracy: 0.1262\n",
      "Epoch 8/40\n",
      "221/221 [==============================] - 5s 23ms/step - loss: 4.9781 - accuracy: 0.1463 - val_loss: 6.2864 - val_accuracy: 0.1300\n",
      "Epoch 9/40\n",
      "221/221 [==============================] - 5s 23ms/step - loss: 4.8440 - accuracy: 0.1518 - val_loss: 6.3539 - val_accuracy: 0.1292\n",
      "Epoch 10/40\n",
      "221/221 [==============================] - 5s 23ms/step - loss: 4.7069 - accuracy: 0.1590 - val_loss: 6.4141 - val_accuracy: 0.1306\n",
      "Epoch 11/40\n",
      "221/221 [==============================] - 5s 23ms/step - loss: 4.5738 - accuracy: 0.1665 - val_loss: 6.5445 - val_accuracy: 0.1330\n",
      "Epoch 12/40\n",
      "221/221 [==============================] - 5s 23ms/step - loss: 4.4414 - accuracy: 0.1744 - val_loss: 6.6137 - val_accuracy: 0.1335\n",
      "Epoch 13/40\n",
      "221/221 [==============================] - 5s 23ms/step - loss: 4.3080 - accuracy: 0.1806 - val_loss: 6.7221 - val_accuracy: 0.1340\n",
      "Epoch 14/40\n",
      "221/221 [==============================] - 5s 23ms/step - loss: 4.1812 - accuracy: 0.1894 - val_loss: 6.8415 - val_accuracy: 0.1353\n",
      "Epoch 15/40\n",
      "221/221 [==============================] - 5s 23ms/step - loss: 4.0522 - accuracy: 0.1973 - val_loss: 7.0327 - val_accuracy: 0.1315\n",
      "Epoch 16/40\n",
      "221/221 [==============================] - 5s 23ms/step - loss: 3.9328 - accuracy: 0.2085 - val_loss: 7.1691 - val_accuracy: 0.1299\n",
      "Epoch 17/40\n",
      "221/221 [==============================] - 5s 23ms/step - loss: 3.8077 - accuracy: 0.2202 - val_loss: 7.3465 - val_accuracy: 0.1301\n",
      "Epoch 18/40\n",
      "221/221 [==============================] - 5s 23ms/step - loss: 3.6829 - accuracy: 0.2332 - val_loss: 7.4430 - val_accuracy: 0.1294\n",
      "Epoch 19/40\n",
      "221/221 [==============================] - 5s 23ms/step - loss: 3.5644 - accuracy: 0.2466 - val_loss: 7.7072 - val_accuracy: 0.1287\n",
      "Epoch 20/40\n",
      "221/221 [==============================] - 5s 23ms/step - loss: 3.4472 - accuracy: 0.2634 - val_loss: 7.8138 - val_accuracy: 0.1266\n",
      "Epoch 21/40\n",
      "221/221 [==============================] - 5s 23ms/step - loss: 3.3453 - accuracy: 0.2733 - val_loss: 8.0266 - val_accuracy: 0.1251\n",
      "Epoch 22/40\n",
      "221/221 [==============================] - 5s 23ms/step - loss: 3.2284 - accuracy: 0.2912 - val_loss: 8.2694 - val_accuracy: 0.1284\n",
      "Epoch 23/40\n",
      "221/221 [==============================] - 5s 23ms/step - loss: 3.1227 - accuracy: 0.3053 - val_loss: 8.4126 - val_accuracy: 0.1257\n",
      "Epoch 24/40\n",
      "221/221 [==============================] - 5s 23ms/step - loss: 3.0314 - accuracy: 0.3181 - val_loss: 8.6218 - val_accuracy: 0.1206\n",
      "Epoch 25/40\n",
      "221/221 [==============================] - 5s 23ms/step - loss: 2.9332 - accuracy: 0.3322 - val_loss: 8.7886 - val_accuracy: 0.1164\n",
      "Epoch 26/40\n",
      "221/221 [==============================] - 5s 23ms/step - loss: 2.8437 - accuracy: 0.3492 - val_loss: 8.9229 - val_accuracy: 0.1196\n",
      "Epoch 27/40\n",
      "221/221 [==============================] - 5s 23ms/step - loss: 2.7618 - accuracy: 0.3609 - val_loss: 9.2070 - val_accuracy: 0.1141\n",
      "Epoch 28/40\n",
      "221/221 [==============================] - 5s 23ms/step - loss: 2.6684 - accuracy: 0.3779 - val_loss: 9.4463 - val_accuracy: 0.1179\n",
      "Epoch 29/40\n",
      "221/221 [==============================] - 5s 23ms/step - loss: 2.5825 - accuracy: 0.3926 - val_loss: 9.5874 - val_accuracy: 0.1121\n",
      "Epoch 30/40\n",
      "221/221 [==============================] - 5s 23ms/step - loss: 2.5137 - accuracy: 0.4035 - val_loss: 9.7125 - val_accuracy: 0.1135\n",
      "Epoch 31/40\n",
      "221/221 [==============================] - 5s 23ms/step - loss: 2.4327 - accuracy: 0.4210 - val_loss: 9.8630 - val_accuracy: 0.1158\n",
      "Epoch 32/40\n",
      "221/221 [==============================] - 5s 23ms/step - loss: 2.3686 - accuracy: 0.4316 - val_loss: 10.0022 - val_accuracy: 0.1143\n",
      "Epoch 33/40\n",
      "221/221 [==============================] - 5s 23ms/step - loss: 2.3099 - accuracy: 0.4448 - val_loss: 10.1987 - val_accuracy: 0.1140\n",
      "Epoch 34/40\n",
      "221/221 [==============================] - 5s 23ms/step - loss: 2.2452 - accuracy: 0.4545 - val_loss: 10.4346 - val_accuracy: 0.1182\n",
      "Epoch 35/40\n",
      "221/221 [==============================] - 5s 23ms/step - loss: 2.1825 - accuracy: 0.4640 - val_loss: 10.5291 - val_accuracy: 0.1179\n",
      "Epoch 36/40\n",
      "221/221 [==============================] - 5s 23ms/step - loss: 2.1194 - accuracy: 0.4820 - val_loss: 10.7733 - val_accuracy: 0.1084\n",
      "Epoch 37/40\n",
      "221/221 [==============================] - 5s 23ms/step - loss: 2.0652 - accuracy: 0.4918 - val_loss: 10.8634 - val_accuracy: 0.1139\n",
      "Epoch 38/40\n",
      "221/221 [==============================] - 5s 23ms/step - loss: 2.1001 - accuracy: 0.4836 - val_loss: 10.8554 - val_accuracy: 0.1111\n",
      "Epoch 39/40\n",
      "221/221 [==============================] - 5s 23ms/step - loss: 2.0003 - accuracy: 0.5052 - val_loss: 11.2851 - val_accuracy: 0.1118\n",
      "Epoch 40/40\n",
      "221/221 [==============================] - 5s 23ms/step - loss: 1.9284 - accuracy: 0.5189 - val_loss: 11.4878 - val_accuracy: 0.1113\n"
     ]
    }
   ],
   "source": [
    "from keras.callbacks import EarlyStopping\n",
    "# es = EarlyStopping(monitor='val_loss', mode='auto', patience=3)\n",
    "history = model_initTest.fit(x_train, y_train, epochs=40, validation_split=0.2, verbose=1, batch_size=256)"
   ]
  },
  {
   "cell_type": "code",
   "execution_count": 111,
   "metadata": {},
   "outputs": [
    {
     "data": {
      "text/plain": [
       "<matplotlib.legend.Legend at 0x201ca8c34f0>"
      ]
     },
     "execution_count": 111,
     "metadata": {},
     "output_type": "execute_result"
    },
    {
     "data": {
      "image/png": "[encoded data removed]",
      "text/plain": [
       "<Figure size 640x480 with 1 Axes>"
      ]
     },
     "metadata": {},
     "output_type": "display_data"
    }
   ],
   "source": [
    "plt.plot(history.history['loss'])\n",
    "plt.plot(history.history['val_loss'])\n",
    "plt.title('model crossentropy loss')\n",
    "plt.ylabel('Cat_CrossEntropy_loss')\n",
    "plt.xlabel('epoch')\n",
    "plt.legend(['train', 'val'], loc='upper left')"
   ]
  },
  {
   "cell_type": "code",
   "execution_count": null,
   "metadata": {},
   "outputs": [
    {
     "name": "stdout",
     "output_type": "stream",
     "text": [
      "Model: \"sequential\"\n",
      "_________________________________________________________________\n",
      " Layer (type)                Output Shape              Param #   \n",
      "=================================================================\n",
      " embedding (Embedding)       (None, 11, 100)           729900    \n",
      "                                                                 \n",
      " bidirectional (Bidirectiona  (None, 11, 512)          731136    \n",
      " l)                                                              \n",
      "                                                                 \n",
      " dropout (Dropout)           (None, 11, 512)           0         \n",
      "                                                                 \n",
      " bidirectional_1 (Bidirectio  (None, 512)              1574912   \n",
      " nal)                                                            \n",
      "                                                                 \n",
      " dropout_1 (Dropout)         (None, 512)               0         \n",
      "                                                                 \n",
      " dense (Dense)               (None, 128)               65664     \n",
      "                                                                 \n",
      " dense_1 (Dense)             (None, 7299)              941571    \n",
      "                                                                 \n",
      "=================================================================\n",
      "Total params: 4,043,183\n",
      "Trainable params: 3,313,283\n",
      "Non-trainable params: 729,900\n",
      "_________________________________________________________________\n"
     ]
    }
   ],
   "source": [
    "\n",
    "K.clear_session()\n",
    "model = tf.keras.Sequential(\n",
    "    [tf.keras.layers.Embedding(input_dim = total_unique_words, \n",
    "                               output_dim=100, weights=[embeddings_matrix], \n",
    "                               input_length=max_seq_length-1, \n",
    "                               trainable=False),\n",
    "    tf.keras.layers.Bidirectional(tf.keras.layers.LSTM(256, return_sequences=True)),\n",
    "    tf.keras.layers.Dropout(0.2), \n",
    "    tf.keras.layers.Bidirectional(tf.keras.layers.LSTM(256)),\n",
    "    tf.keras.layers.Dropout(0.2),\n",
    "    tf.keras.layers.Dense(128, activation='relu'),\n",
    "    tf.keras.layers.Dense(total_unique_words , activation='softmax')])\n",
    "model.compile(optimizer=Adam(learning_rate=0.001), loss='categorical_crossentropy', metrics=['accuracy'])\n",
    "model.summary()\n"
   ]
  },
  {
   "cell_type": "code",
   "execution_count": 40,
   "metadata": {},
   "outputs": [
    {
     "name": "stdout",
     "output_type": "stream",
     "text": [
      "Epoch 1/100\n",
      "221/221 [==============================] - 10s 28ms/step - loss: 6.8040 - accuracy: 0.0488 - val_loss: 6.7193 - val_accuracy: 0.0620\n",
      "Epoch 2/100\n",
      "221/221 [==============================] - 5s 23ms/step - loss: 6.2250 - accuracy: 0.0798 - val_loss: 6.4077 - val_accuracy: 0.0951\n",
      "Epoch 3/100\n",
      "221/221 [==============================] - 5s 23ms/step - loss: 5.8327 - accuracy: 0.1071 - val_loss: 6.2779 - val_accuracy: 0.1067\n",
      "Epoch 4/100\n",
      "221/221 [==============================] - 5s 23ms/step - loss: 5.5840 - accuracy: 0.1196 - val_loss: 6.2351 - val_accuracy: 0.1090\n",
      "Epoch 5/100\n",
      "221/221 [==============================] - 5s 23ms/step - loss: 5.4028 - accuracy: 0.1256 - val_loss: 6.1820 - val_accuracy: 0.1165\n",
      "Epoch 6/100\n",
      "221/221 [==============================] - 5s 23ms/step - loss: 5.2385 - accuracy: 0.1314 - val_loss: 6.1990 - val_accuracy: 0.1179\n",
      "Epoch 7/100\n",
      "221/221 [==============================] - 5s 23ms/step - loss: 5.1018 - accuracy: 0.1374 - val_loss: 6.1955 - val_accuracy: 0.1220\n",
      "Epoch 8/100\n",
      "221/221 [==============================] - 5s 23ms/step - loss: 4.9676 - accuracy: 0.1441 - val_loss: 6.2668 - val_accuracy: 0.1238\n"
     ]
    }
   ],
   "source": [
    "from keras.callbacks import EarlyStopping\n",
    "es = EarlyStopping(monitor='val_loss', mode='auto', patience=3)\n",
    "history = model.fit(x_train, y_train, epochs=100, validation_split=0.2, verbose=1, batch_size=256, callbacks=[es])"
   ]
  },
  {
   "cell_type": "code",
   "execution_count": 41,
   "metadata": {},
   "outputs": [
    {
     "name": "stdout",
     "output_type": "stream",
     "text": [
      "Evaluate on test data\n",
      "5/5 [==============================] - 0s 8ms/step - loss: 5.3297 - accuracy: 0.1689\n",
      "test loss, test acc: [5.329738616943359, 0.1689189225435257]\n",
      "perplexity = 206.38402181903714 vs 7299 unique words\n"
     ]
    }
   ],
   "source": [
    "# Evaluate the model on the test data using `evaluate`\n",
    "print(\"Evaluate on test data\")\n",
    "results = model.evaluate(x_test, y_test, batch_size=128)\n",
    "print(\"test loss, test acc:\", results)\n",
    "#https://stackoverflow.com/questions/41881308/how-to-calculate-perplexity-of-rnn-in-tensorflow/42025194#42025194\n",
    "print(f'perplexity = {np.exp(results[0])} vs 7299 unique words')"
   ]
  },
  {
   "cell_type": "markdown",
   "metadata": {},
   "source": [
    "Perplexity of 206 vs 7300 vocabulary size is better than what the accuracy implies.\n",
    "\n",
    "If we are using this for a smartphone next word prediction we would suggest multiple next words, in this case lets assume thats 5 and see how the system performs via accuracy of whether the highest probability 5 words predicted by the model match the actual test word."
   ]
  },
  {
   "cell_type": "code",
   "execution_count": 114,
   "metadata": {},
   "outputs": [
    {
     "name": "stdout",
     "output_type": "stream",
     "text": [
      "19/19 [==============================] - 0s 25ms/step\n",
      "first 5 test accuracy 0.3125\n"
     ]
    }
   ],
   "source": [
    "i=0\n",
    "temp = tf.math.top_k(model.predict(x_test, verbose=1), k =5)[1]\n",
    "previous_text =  [''.join([list(word_index.keys())[list(word_index.values()).index(j)]+\" \" if j !=0 else ''  for j in list(i)]) for i in  x_test]\n",
    "predicted_words = [ [list(word_index.keys())[list(word_index.values()).index(i)]  for i in row] for row in temp]\n",
    "actual_words = [ list(word_index.keys())[list(word_index.values()).index(i)] for i in  np.argmax(y_test, axis=-1)]\n",
    "correctCount = 0\n",
    "for predictionWord in predicted_words  :\n",
    "    # print(predictionWord)\n",
    "    # predicted = np.argmax(model.predict(seq, verbose=1), axis=-1)  \n",
    "    # ouput_word = \"\"  \n",
    "    # for word, index in tokenizer.word_index.items():\n",
    "    #     if index == predicted:\n",
    "    #         output_word = word\n",
    "    #         break\n",
    "    # if predictionWord == actual_words[i]: \n",
    "    # print(f'seed text: \"{previous_text[i]}\" pred: {predictionWord} act: {actual_words[i]}')\n",
    "    if actual_words[i] in predictionWord:\n",
    "        correctCount +=1\n",
    "    \n",
    "    i+=1\n",
    "print(f'first 5 test accuracy {correctCount/len(actual_words)}' )\n",
    "with open(\"data/test_sentences.pkl\", \"wb\") as fp:   \n",
    "    pickle.dump(previous_text, fp) \n",
    "with open(\"data/test_nextWord.pkl\", \"wb\") as fp:   \n",
    "    pickle.dump(actual_words, fp) "
   ]
  },
  {
   "cell_type": "code",
   "execution_count": 113,
   "metadata": {},
   "outputs": [
    {
     "name": "stdout",
     "output_type": "stream",
     "text": [
      "1/1 [==============================] - 0s 25ms/step\n",
      "seed text: \"what's \" pred: ['a', 'going', 'not', 'you', 'better'] act: my\n",
      "seed text: \"what's my \" pred: ['friend', 'work', 'eyes', 'surprise', 'shoes'] act: book\n",
      "seed text: \"what's my book \" pred: ['is', 'was', 'has', 'will', 'are'] act: doing\n",
      "seed text: \"what's my book doing \" pred: ['to', 'a', 'the', 'up', 'it'] act: here\n",
      "seed text: \"what \" pred: ['you', 'do', 'is', 'did', 'are'] act: an\n",
      "seed text: \"what an \" pred: ['you', 'the', 'a', 'your', 'of'] act: ambiguous\n",
      "seed text: \"what an ambiguous \" pred: ['is', 'of', 'you', 'that', 'to'] act: expression\n",
      "seed text: \"i'm \" pred: ['a', 'going', 'not', 'you', 'better'] act: sort\n",
      "seed text: \"i'm sort \" pred: ['to', 'that', 'of', 'for', 'much'] act: of\n",
      "seed text: \"i'm sort of \" pred: ['you', 'the', 'your', 'a', 'school'] act: tired\n",
      "seed text: \"we'll \" pred: ['a', 'going', 'not', 'you', 'better'] act: what\n",
      "seed text: \"give \" pred: ['you', 'me', 'your', 'the', 'him'] act: me\n",
      "seed text: \"give me \" pred: ['to', 'a', 'your', 'the', 'it'] act: a\n",
      "seed text: \"give me a \" pred: ['lot', 'good', 'little', 'foreign', 'great'] act: break\n",
      "seed text: \"give me a break \" pred: ['to', 'for', 'in', 'on', 'of'] act: if\n",
      "seed text: \"give me a break if \" pred: ['you', 'i', 'the', 'it', 'we'] act: you\n",
      "seed text: \"give me a break if you \" pred: ['have', 'will', 'say', 'are', 'go'] act: have\n",
      "seed text: \"give me a break if you have \" pred: ['to', 'a', 'the', 'better', 'not'] act: something\n",
      "seed text: \"give me a break if you have something \" pred: ['to', 'a', 'for', 'like', 'much'] act: to\n",
      "seed text: \"give me a break if you have something to \" pred: ['go', 'be', 'do', 'get', 'have'] act: say\n"
     ]
    }
   ],
   "source": [
    "i=0\n",
    "temp = tf.math.top_k(model.predict(x_test[:20] , verbose=1), k =5)[1]\n",
    "previous_text =  [''.join([list(word_index.keys())[list(word_index.values()).index(j)]+\" \" if j !=0 else ''  for j in list(i)]) for i in  x_test[:20] ]\n",
    "predicted_words = [ [list(word_index.keys())[list(word_index.values()).index(i)]  for i in row] for row in temp]\n",
    "actual_words = [ list(word_index.keys())[list(word_index.values()).index(i)] for i in  np.argmax(y_test, axis=-1)]\n",
    "for predictionWord in predicted_words :\n",
    "    # print(predictionWord)\n",
    "    # predicted = np.argmax(model.predict(seq, verbose=1), axis=-1)  \n",
    "    # ouput_word = \"\"  \n",
    "    # for word, index in tokenizer.word_index.items():\n",
    "    #     if index == predicted:\n",
    "    #         output_word = word\n",
    "    #         break\n",
    "    # if predictionWord == actual_words[i]: \n",
    "    print(f'seed text: \"{previous_text[i]}\" pred: {predictionWord} act: {actual_words[i]}')\n",
    "    i+=1\n",
    "import pickle\n",
    "with open(\"data/test_sentences.pkl\", \"wb\") as fp:   \n",
    "    pickle.dump(previous_text, fp) \n",
    "with open(\"data/test_nextWord.pkl\", \"wb\") as fp:   \n",
    "    pickle.dump(actual_words, fp) \n",
    "\n"
   ]
  },
  {
   "cell_type": "markdown",
   "metadata": {},
   "source": [
    "Upon review it seems to perform best in predicting very common words such as is, the, a and pronouns and doesn't do well on predicting less common verbs and more specific nouns."
   ]
  },
  {
   "cell_type": "markdown",
   "metadata": {},
   "source": [
    "Save the model for use in separate py files"
   ]
  },
  {
   "cell_type": "code",
   "execution_count": 44,
   "metadata": {},
   "outputs": [],
   "source": [
    "model.save('model\\LSTMWordList.keras')\n"
   ]
  },
  {
   "cell_type": "markdown",
   "metadata": {},
   "source": [
    "## Test the final predictor package"
   ]
  },
  {
   "cell_type": "code",
   "execution_count": 4,
   "metadata": {},
   "outputs": [
    {
     "name": "stdout",
     "output_type": "stream",
     "text": [
      "1/1 [==============================] - 1s 743ms/step\n",
      "['are', 'do', 'you', 'is', 'will']\n",
      "1/1 [==============================] - 0s 14ms/step\n",
      "['a', 'going', 'not', 'you', 'better']\n",
      "1/1 [==============================] - 0s 14ms/step\n",
      "['to', 'you', 'your', 'a', 'the']\n",
      "1/1 [==============================] - 0s 16ms/step\n",
      "['you', 'i', 'what', 'that', 'how']\n"
     ]
    }
   ],
   "source": [
    "from next_word_pred import predict \n",
    "predictor = predict.LSTM_next_word_pred()\n",
    "print(predictor.predict(\"where\"))\n",
    "\n",
    "print(predictor.predict(\"\")  )\n",
    "print(predictor.predict(\"I'll call them\"))\n",
    "\n",
    "print(predictor.predict(\"I just don't know\"))\n"
   ]
  },
  {
   "cell_type": "code",
   "execution_count": null,
   "metadata": {},
   "outputs": [],
   "source": []
  }
 ],
 "metadata": {
  "kernelspec": {
   "display_name": "CalabrioEnv",
   "language": "python",
   "name": "python3"
  },
  "language_info": {
   "codemirror_mode": {
    "name": "ipython",
    "version": 3
   },
   "file_extension": ".py",
   "mimetype": "text/x-python",
   "name": "python",
   "nbconvert_exporter": "python",
   "pygments_lexer": "ipython3",
   "version": "3.9.18"
  }
 },
 "nbformat": 4,
 "nbformat_minor": 2
}
